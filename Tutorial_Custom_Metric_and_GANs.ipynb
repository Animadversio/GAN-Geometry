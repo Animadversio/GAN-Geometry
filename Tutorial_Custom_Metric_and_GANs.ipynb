{
 "cells": [
  {
   "cell_type": "markdown",
   "metadata": {
    "collapsed": true,
    "pycharm": {
     "name": "#%% md\n"
    }
   },
   "source": [
    "# Tutorial: Custom GANs and Axes Comparison\n",
    "\n",
    "In this tutorial, I'll show you how to use our system on custom GANs not included in the `GAN_utils`. Basically we need to build a wrapper around the generator which provides the following functionality\n",
    "\n",
    "* Sample noise\n",
    "* Render"
   ]
  }
 ],
 "metadata": {
  "kernelspec": {
   "display_name": "Python 3",
   "language": "python",
   "name": "python3"
  },
  "language_info": {
   "codemirror_mode": {
    "name": "ipython",
    "version": 2
   },
   "file_extension": ".py",
   "mimetype": "text/x-python",
   "name": "python",
   "nbconvert_exporter": "python",
   "pygments_lexer": "ipython2",
   "version": "2.7.6"
  }
 },
 "nbformat": 4,
 "nbformat_minor": 0
}