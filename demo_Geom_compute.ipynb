{
 "cells": [
  {
   "cell_type": "markdown",
   "source": [
    "## Demo of Analyzing GAN Geometry\n",
    "First load the package and the GAN loaders and wrappers."
   ],
   "metadata": {
    "collapsed": false,
    "pycharm": {
     "name": "#%% md\n"
    }
   }
  },
  {
   "cell_type": "code",
   "execution_count": null,
   "metadata": {
    "collapsed": true
   },
   "outputs": [],
   "source": [
    "from core import get_full_hessian, hessian_compute, save_imgrid, show_imgrid\n",
    "from core.GAN_utils import DCGAN_wrapper, loadDCGAN, BigGAN_wrapper, loadBigGAN, upconvGAN"
   ]
  },
  {
   "cell_type": "markdown",
   "source": [
    "Define the image distance metric using LPIPS. Use squeezenet to save memory."
   ],
   "metadata": {
    "collapsed": false,
    "pycharm": {
     "name": "#%% md\n"
    }
   }
  },
  {
   "cell_type": "code",
   "execution_count": null,
   "outputs": [],
   "source": [
    "import torch\n",
    "import lpips\n",
    "ImDist = lpips.LPIPS(net=\"squeeze\", )"
   ],
   "metadata": {
    "collapsed": false,
    "pycharm": {
     "name": "#%%\n"
    }
   }
  },
  {
   "cell_type": "markdown",
   "source": [
    "Now let's load up our GANs and wrap it using our standard GAN interface."
   ],
   "metadata": {
    "collapsed": false,
    "pycharm": {
     "name": "#%% md\n"
    }
   }
  },
  {
   "cell_type": "code",
   "execution_count": null,
   "outputs": [],
   "source": [
    "#(If you have not got BigGAN, use the cmd tool to install.)\n",
    "!pip install pytorch-pretrained-biggan"
   ],
   "metadata": {
    "collapsed": false,
    "pycharm": {
     "name": "#%%\n"
    }
   }
  },
  {
   "cell_type": "code",
   "execution_count": null,
   "outputs": [],
   "source": [
    "BGAN = loadBigGAN()  # Default to be \"biggan-deep-256\"\n",
    "BGAN.cuda().eval()\n",
    "BGAN.requires_grad_(False)\n",
    "G = BigGAN_wrapper(BGAN)\n",
    "feat = G.sample_vector(device=\"cuda\").detach().clone()\n",
    "eva_FI, evc_FI, H_FI = hessian_compute(G, feat, ImDist, hessian_method=\"ForwardIter\", cutoff=10)\n"
   ],
   "metadata": {
    "collapsed": false,
    "pycharm": {
     "name": "#%%\n"
    }
   }
  },
  {
   "cell_type": "code",
   "execution_count": null,
   "outputs": [],
   "source": [
    "eva_BI, evc_BI, H_BI = hessian_compute(G, feat, ImDist, hessian_method=\"BackwardIter\", cutoff=30)\n",
    "eva_BP, evc_BP, H_BP = hessian_compute(G, feat, ImDist, hessian_method=\"BP\")"
   ],
   "metadata": {
    "collapsed": false,
    "pycharm": {
     "name": "#%%\n"
    }
   }
  },
  {
   "cell_type": "code",
   "execution_count": null,
   "outputs": [],
   "source": [],
   "metadata": {
    "collapsed": false,
    "pycharm": {
     "name": "#%%\n"
    }
   }
  }
 ],
 "metadata": {
  "kernelspec": {
   "display_name": "Python 3",
   "language": "python",
   "name": "python3"
  },
  "language_info": {
   "codemirror_mode": {
    "name": "ipython",
    "version": 2
   },
   "file_extension": ".py",
   "mimetype": "text/x-python",
   "name": "python",
   "nbconvert_exporter": "python",
   "pygments_lexer": "ipython2",
   "version": "2.7.6"
  }
 },
 "nbformat": 4,
 "nbformat_minor": 0
}